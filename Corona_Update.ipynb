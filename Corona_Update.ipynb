{
 "cells": [
  {
   "cell_type": "code",
   "execution_count": 2,
   "metadata": {},
   "outputs": [],
   "source": [
    "from gtts import gTTS  #for text to speech conversion"
   ]
  },
  {
   "cell_type": "code",
   "execution_count": 11,
   "metadata": {},
   "outputs": [],
   "source": [
    "import os #for operating system work\n",
    "from playsound import playsound"
   ]
  },
  {
   "cell_type": "code",
   "execution_count": 12,
   "metadata": {},
   "outputs": [],
   "source": [
    "text = \"Good morning Simran\"\n",
    "language = \"en\"   #language selected as english\n",
    "myobj = gTTS(text=text,lang=language) #converting the given text into speech we can add slow=False for fast speed\n",
    "myobj.save(\"welcome.mp3\")\n",
    "#os.system(\"mpg123 welcome.mp3\")\n",
    "playsound(\"welcome.mp3\")"
   ]
  },
  {
   "cell_type": "code",
   "execution_count": 13,
   "metadata": {},
   "outputs": [],
   "source": [
    "import time"
   ]
  },
  {
   "cell_type": "code",
   "execution_count": 22,
   "metadata": {},
   "outputs": [
    {
     "data": {
      "text/plain": [
       "'16'"
      ]
     },
     "execution_count": 22,
     "metadata": {},
     "output_type": "execute_result"
    }
   ],
   "source": [
    "time.ctime().split()[-2][:2]"
   ]
  },
  {
   "cell_type": "code",
   "execution_count": null,
   "metadata": {},
   "outputs": [],
   "source": [
    "t = time.ctime().split()[-2][:2]\n",
    "if int(t)<12:\n",
    "    greet = \"Good Morning\"\n",
    "elif 12<int(i)<17:\n",
    "    greet = \"Good Afternoon\"\n",
    "else:\n",
    "    greet = \"Good Evening\"\n",
    "text = f\"{greet} Simran\"\n",
    "language = \"en\"   #language selected as english\n",
    "myobj = gTTS(text=text,lang=language) #converting the given text into speech we can add slow=False for fast speed\n",
    "myobj.save(\"welcome.mp3\")"
   ]
  },
  {
   "cell_type": "code",
   "execution_count": 26,
   "metadata": {},
   "outputs": [],
   "source": [
    "### code for getting corona update data\n",
    "import pandas as pd\n",
    "import requests"
   ]
  },
  {
   "cell_type": "code",
   "execution_count": 74,
   "metadata": {},
   "outputs": [],
   "source": [
    "url = \"https://www.worldometers.info/coronavirus/\"\n",
    "page = requests.get(url).content\n",
    "data = pd.read_html(page)"
   ]
  },
  {
   "cell_type": "code",
   "execution_count": 75,
   "metadata": {},
   "outputs": [],
   "source": [
    "df = data[0]\n",
    "country = \"\"\n",
    "for i in df[1:6]['Country,Other'].values:\n",
    "    country+= i + \" \"\n",
    "sentence1 = f\"top three countries suffering is {country}\""
   ]
  },
  {
   "cell_type": "code",
   "execution_count": 76,
   "metadata": {},
   "outputs": [
    {
     "data": {
      "text/plain": [
       "'top three countries suffering is USA Spain Italy France Germany '"
      ]
     },
     "execution_count": 76,
     "metadata": {},
     "output_type": "execute_result"
    }
   ],
   "source": [
    "sentence1"
   ]
  },
  {
   "cell_type": "code",
   "execution_count": 65,
   "metadata": {},
   "outputs": [
    {
     "name": "stdout",
     "output_type": "stream",
     "text": [
      "top three countries suffering is USA Spain Italy \n",
      "India is at the position 15\n"
     ]
    }
   ],
   "source": [
    "india_pos = df[df['Country,Other']==\"India\"].index.values[0]\n",
    "india_total = df[df['Country,Other'] == \"India\"]['TotalCases'].values[0]\n",
    "sentence2 = f\"\\n and India is at the position {india_pos} with total cases {india_total}\"\n",
    "final_text = sentence1+sentence2\n",
    "print(final_text)\n",
    "mytext = gTTS(text=final_text,lang=\"en\")\n",
    "mytext.save(\"update.mp3\")\n",
    "playsound(\"update.mp3\")\n",
    "os.remove(\"update.mp3\")"
   ]
  },
  {
   "cell_type": "code",
   "execution_count": 108,
   "metadata": {},
   "outputs": [],
   "source": [
    "###getting rajasthan details"
   ]
  },
  {
   "cell_type": "code",
   "execution_count": 109,
   "metadata": {},
   "outputs": [],
   "source": [
    "page = requests.get(\"https://www.mohfw.gov.in/\")\n",
    "data2 = pd.read_html(page.content)\n",
    "df2 = data2[0]\n",
    "index = [32,33,34,35]\n",
    "for i in index:\n",
    "    df2.drop(i,inplace=True)\n",
    "df2['Total Confirmed cases (Including 111 foreign Nationals)'] = df2['Total Confirmed cases (Including 111 foreign Nationals)'].apply(lambda x : int(x))"
   ]
  },
  {
   "cell_type": "code",
   "execution_count": 146,
   "metadata": {},
   "outputs": [
    {
     "name": "stdout",
     "output_type": "stream",
     "text": [
      "Rajasthan status is  total confirmed cases are 2034 and death are 27\n"
     ]
    },
    {
     "name": "stderr",
     "output_type": "stream",
     "text": [
      "C:\\Anaconda\\lib\\site-packages\\ipykernel_launcher.py:1: FutureWarning: by argument to sort_index is deprecated, please use .sort_values(by=...)\n",
      "  \"\"\"Entry point for launching an IPython kernel.\n"
     ]
    }
   ],
   "source": [
    "states = df2.sort_index(by=\"Total Confirmed cases (Including 111 foreign Nationals)\",ascending=False)[:5][['Name of State / UT','Total Confirmed cases (Including 111 foreign Nationals)']].values\n",
    "sent3 = \" Top five states in India with confirmed cases are  \"\n",
    "for i in states:\n",
    "    sent3 += (i[0]+\" \"+str(i[1])+\"\\n\")\n",
    "raj_det = df2[df2['Name of State / UT'] == \"Rajasthan\"][['Total Confirmed cases (Including 111 foreign Nationals)','Cured/Discharged/Migrated','Death']].values\n",
    "sent4 = f\"Rajasthan status is  total confirmed cases are {raj_det[0][0]} and death are {raj_det[0][2]}\""
   ]
  },
  {
   "cell_type": "code",
   "execution_count": 167,
   "metadata": {},
   "outputs": [
    {
     "name": "stderr",
     "output_type": "stream",
     "text": [
      "C:\\Anaconda\\lib\\site-packages\\ipykernel_launcher.py:44: FutureWarning: by argument to sort_index is deprecated, please use .sort_values(by=...)\n"
     ]
    },
    {
     "name": "stdout",
     "output_type": "stream",
     "text": [
      "                                                                          Good Evening Simran  top three countries suffering is USA                 Spain                 Italy                 France                 Germany                 \n",
      " and India is at the position 15 with total cases 24942 Top five states in India with confirmed cases are  Maharashtra 6817\n",
      "Gujarat 2815\n",
      "Delhi 2514\n",
      "Rajasthan 2034\n",
      "Madhya Pradesh 1952\n",
      "In rajasthan the total confirmed cases are 2034 and death are 27\n"
     ]
    }
   ],
   "source": [
    "\n",
    "\"\"\"This file is for top corona updates you can hear in the morning or anytime with a greet\"\"\"\n",
    "##all together\n",
    "\n",
    "from gtts import gTTS  #for text to speech conversion\n",
    "import os #for operating system work\n",
    "from playsound import playsound\n",
    "import pandas as pd\n",
    "import requests\n",
    "\n",
    "\"\"\"Code for greet\"\"\"\n",
    "t = time.ctime().split()[-2][:2]\n",
    "if int(t)<12:\n",
    "    greet = \"Good Morning\"\n",
    "elif 12<int(t)<17:\n",
    "    greet = \"Good Afternoon\"\n",
    "else:\n",
    "    greet = \"Good Evening\"\n",
    "text = f\"{greet} Simran\"\n",
    "language = \"en\"   #language selected as english\n",
    "\n",
    "\n",
    "\"\"\"Code for top countries and India rank all over the world\"\"\"\n",
    "url = \"https://www.worldometers.info/coronavirus/\"\n",
    "page = requests.get(url).content\n",
    "data = pd.read_html(page)\n",
    "df = data[0]\n",
    "country = \"\"\n",
    "for i in df[1:6]['Country,Other'].values:\n",
    "    country+= i + \"                 \"\n",
    "sentence1 = f\" top five countries suffering is {country}\"\n",
    "india_pos = df[df['Country,Other']==\"India\"].index.values[0]\n",
    "india_total = df[df['Country,Other'] == \"India\"]['TotalCases'].values[0]\n",
    "sentence2 = f\"\\n and India is at the position {india_pos} with total cases {india_total}\"\n",
    "\n",
    "\"\"\"Code for India updates for to states\"\"\"\n",
    "\n",
    "page = requests.get(\"https://www.mohfw.gov.in/\")\n",
    "data2 = pd.read_html(page.content)\n",
    "df2 = data2[0]\n",
    "index = [32,33,34,35]\n",
    "for i in index:\n",
    "    df2.drop(i,inplace=True)\n",
    "df2['Total Confirmed cases (Including 111 foreign Nationals)'] = df2['Total Confirmed cases (Including 111 foreign Nationals)'].apply(lambda x : int(x))\n",
    "states = df2.sort_index(by=\"Total Confirmed cases (Including 111 foreign Nationals)\",ascending=False)[:5][['Name of State / UT','Total Confirmed cases (Including 111 foreign Nationals)']].values\n",
    "sent3 = \" Top five states in India with confirmed cases are  \"\n",
    "for i in states:\n",
    "    sent3 += (i[0]+\" \"+str(i[1])+\"\\n\")\n",
    "raj_det = df2[df2['Name of State / UT'] == \"Rajasthan\"][['Total Confirmed cases (Including 111 foreign Nationals)','Cured/Discharged/Migrated','Death']].values\n",
    "sent4 = f\"In rajasthan the total confirmed cases are {raj_det[0][0]} and death are {raj_det[0][2]}\"\n",
    "\n",
    "final_text =\"                                                                          \"+text+\" \"+sentence1+sentence2+sent3+sent4\n",
    "print(final_text)\n",
    "mytext = gTTS(text=final_text,lang=\"en\",slow=False)\n",
    "mytext.save(\"update.mp3\")\n",
    "playsound(\"update.mp3\")\n",
    "os.remove(\"update.mp3\")"
   ]
  },
  {
   "cell_type": "code",
   "execution_count": null,
   "metadata": {},
   "outputs": [],
   "source": []
  }
 ],
 "metadata": {
  "kernelspec": {
   "display_name": "Python 3",
   "language": "python",
   "name": "python3"
  },
  "language_info": {
   "codemirror_mode": {
    "name": "ipython",
    "version": 3
   },
   "file_extension": ".py",
   "mimetype": "text/x-python",
   "name": "python",
   "nbconvert_exporter": "python",
   "pygments_lexer": "ipython3",
   "version": "3.7.4"
  }
 },
 "nbformat": 4,
 "nbformat_minor": 2
}
